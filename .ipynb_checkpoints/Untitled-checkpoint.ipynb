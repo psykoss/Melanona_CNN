{
 "cells": [
  {
   "cell_type": "markdown",
   "id": "4e619eb0",
   "metadata": {},
   "source": [
    "# Melanoma detector using CNN\n",
    "The following model aims to create a model to detect skin melanoma."
   ]
  },
  {
   "cell_type": "code",
   "execution_count": null,
   "id": "f0bb30ab",
   "metadata": {},
   "outputs": [],
   "source": [
    "import pandas as pd\n",
    "import numpy as np\n",
    "import os\n",
    "import cv2\n",
    "from sklearn.model_selection import train_test_split\n",
    "from keras.utils import to_categorical"
   ]
  }
 ],
 "metadata": {
  "kernelspec": {
   "display_name": "myenv",
   "language": "python",
   "name": "myenv"
  },
  "language_info": {
   "codemirror_mode": {
    "name": "ipython",
    "version": 3
   },
   "file_extension": ".py",
   "mimetype": "text/x-python",
   "name": "python",
   "nbconvert_exporter": "python",
   "pygments_lexer": "ipython3",
   "version": "3.11.5"
  }
 },
 "nbformat": 4,
 "nbformat_minor": 5
}
